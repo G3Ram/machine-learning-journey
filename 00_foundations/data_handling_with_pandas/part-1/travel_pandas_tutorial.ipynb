{
 "cells": [
  {
   "cell_type": "markdown",
   "id": "3ae7a22f",
   "metadata": {},
   "source": [
    "# 🐼 Pandas Travel Tutorial\n",
    "Explore the world through your data with `pandas`!"
   ]
  },
  {
   "cell_type": "code",
   "execution_count": null,
   "id": "351195a1",
   "metadata": {},
   "outputs": [],
   "source": [
    "import pandas as pd"
   ]
  },
  {
   "cell_type": "code",
   "execution_count": null,
   "id": "783d03f2",
   "metadata": {},
   "outputs": [],
   "source": [
    "travel_log = pd.read_csv(\"travel_log.csv\")\n",
    "expenses = pd.read_csv(\"expenses.csv\")"
   ]
  },
  {
   "cell_type": "code",
   "execution_count": null,
   "id": "f3fcc383",
   "metadata": {},
   "outputs": [],
   "source": [
    "# Peek at data\n",
    "print(travel_log.head())\n",
    "print(expenses.head())"
   ]
  },
  {
   "cell_type": "code",
   "execution_count": null,
   "id": "5fbd5d1a",
   "metadata": {},
   "outputs": [],
   "source": [
    "# Filter examples\n",
    "print(travel_log[travel_log.travel_year == 2020])\n",
    "print(travel_log[(travel_log.travel_year >= 2015) & (travel_log.travel_year <= 2019)])\n",
    "print(travel_log[travel_log.travel_buddy == 'Friends'])\n",
    "print(travel_log['country'].unique())\n",
    "print(travel_log['travel_buddy'].value_counts())"
   ]
  },
  {
   "cell_type": "code",
   "execution_count": null,
   "id": "68ceb3dc",
   "metadata": {},
   "outputs": [],
   "source": [
    "# Max/Min rating\n",
    "print(travel_log[(travel_log.rating == travel_log.rating.max()) | \n",
    "                 (travel_log.rating == travel_log.rating.min())])"
   ]
  },
  {
   "cell_type": "code",
   "execution_count": null,
   "id": "629b98c4",
   "metadata": {},
   "outputs": [],
   "source": [
    "# New columns\n",
    "travel_log['trip_age'] = travel_log['travel_year'].apply(lambda x: 2025 - x)\n",
    "merged = pd.merge(travel_log, expenses, on='id')\n",
    "merged['overrun'] = merged['actual_cost'] - merged['budget']\n",
    "print(merged.head())"
   ]
  },
  {
   "cell_type": "code",
   "execution_count": null,
   "id": "81ba416e",
   "metadata": {},
   "outputs": [],
   "source": [
    "# Indexing\n",
    "merged.set_index(\"destination\", inplace=True)\n",
    "print(merged.loc[\"Paris\"])\n",
    "print(merged.iloc[0])"
   ]
  },
  {
   "cell_type": "code",
   "execution_count": null,
   "id": "f4d7a3f1",
   "metadata": {},
   "outputs": [],
   "source": [
    "# Save to CSV\n",
    "merged.to_csv(\"final_travel_report.csv\", index=False)"
   ]
  }
 ],
 "metadata": {},
 "nbformat": 4,
 "nbformat_minor": 5
}
